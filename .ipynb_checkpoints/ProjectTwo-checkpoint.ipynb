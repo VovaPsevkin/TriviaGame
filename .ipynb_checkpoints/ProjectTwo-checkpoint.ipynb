{
 "cells": [
  {
   "cell_type": "code",
   "execution_count": null,
   "metadata": {},
   "outputs": [],
   "source": [
    "import pyodbc\n",
    "import pandas as pd"
   ]
  },
  {
   "cell_type": "code",
   "execution_count": null,
   "metadata": {},
   "outputs": [],
   "source": [
    "pyodbc.drivers()"
   ]
  },
  {
   "cell_type": "code",
   "execution_count": null,
   "metadata": {},
   "outputs": [],
   "source": [
    "connection_string = \"Driver={ODBC Driver 13 for SQL Server};\" \\\n",
    "                            \"Server=DESKTOP-7DM81V0;\" \\\n",
    "                            \"Database=TriviaQuestions;\" \\\n",
    "                            \"Trusted_Connection=yes;\""
   ]
  },
  {
   "cell_type": "code",
   "execution_count": null,
   "metadata": {},
   "outputs": [],
   "source": [
    "connection_string"
   ]
  },
  {
   "cell_type": "code",
   "execution_count": null,
   "metadata": {},
   "outputs": [],
   "source": [
    "connection = pyodbc.connect(connection_string, autocommit=True)\n",
    "cursor = connection.cursor()\n",
    "h = \"Questions\"\n",
    "\n",
    "sql_query = f\"\"\"DROP TABLE IF EXISTS Questions\n",
    "                CREATE TABLE Questions\n",
    "                (\n",
    "                QuestionId INT IDENTITY CONSTRAINT pk_ProductId PRIMARY KEY,\n",
    "                QuestionCategory NVARCHAR(50) CONSTRAINT nt_questionCategory NOT NULL,\n",
    "                QuestionCorrectAnswer NVARCHAR(50) CONSTRAINT nt_questionCorrect NOT NULL,\n",
    "                QuestionDifficulty  NVARCHAR(50) CONSTRAINT nt_questionDifficulty NOT NULL,\n",
    "                QuestionIncorrectAnswers NVARCHAR(150) CONSTRAINT nt_questionIncorrectAnswers NOT NULL,\n",
    "                Question NVARCHAR(150) CONSTRAINT nt_question NOT NULL,\n",
    "                QuestionType NVARCHAR(120) CONSTRAINT nt_questionType NOT NULL\n",
    "                )\"\"\" \n",
    "                    \n",
    "cursor.execute(sql_query)\n",
    "cursor.close()\n",
    "connection.close()"
   ]
  },
  {
   "cell_type": "code",
   "execution_count": null,
   "metadata": {},
   "outputs": [],
   "source": [
    "connection_string"
   ]
  },
  {
   "cell_type": "code",
   "execution_count": null,
   "metadata": {},
   "outputs": [],
   "source": [
    "import pandas as pd"
   ]
  },
  {
   "cell_type": "code",
   "execution_count": null,
   "metadata": {},
   "outputs": [],
   "source": [
    "df = pd.DataFrame({ 'id': [1,2,3,4], 'letters': ['A', 'B', 'A', 'B']})"
   ]
  },
  {
   "cell_type": "code",
   "execution_count": null,
   "metadata": {},
   "outputs": [],
   "source": [
    "df"
   ]
  },
  {
   "cell_type": "code",
   "execution_count": null,
   "metadata": {},
   "outputs": [],
   "source": [
    "import json\n",
    "import requests"
   ]
  },
  {
   "cell_type": "code",
   "execution_count": null,
   "metadata": {},
   "outputs": [],
   "source": [
    "amount, category, difficulty = 50, 17, 'medium'\n",
    "url = f\"https://opentdb.com/api.php?amount={amount}\" \\\n",
    "        f\"&category={category}&difficulty={difficulty}\"\n",
    "url"
   ]
  },
  {
   "cell_type": "code",
   "execution_count": null,
   "metadata": {},
   "outputs": [],
   "source": [
    "response = requests.get(url)\n",
    "page = response.text\n",
    "json_data = json.loads(page)\n",
    "json_data = json_data[\"results\"]\n",
    "\n",
    "connection_string = \"Driver={ODBC Driver 13 for SQL Server};\" \\\n",
    "                            \"Server=DESKTOP-7DM81V0;\" \\\n",
    "                            \"Database=TriviaQuestions;\" \\\n",
    "                            \"Trusted_Connection=yes;\"\n",
    "\n",
    "#table columns names\n",
    "columns_name = list(json_data[0].keys())\n",
    "\n",
    "connection = pyodbc.connect(connection_string, autocommit=True)\n",
    "cursor = connection.cursor()\n",
    "\n",
    "#problem with F\"{}\" and ? --> How cancatied?????? \n",
    "for j in json_data:\n",
    "    vlues = list(j.values())\n",
    "    sql_query =  f\"INSERT INTO {table_name}(?, ?, ?, ?, ?, ?) Values (?, ?, ?, ?, ?, ?)\"    "
   ]
  },
  {
   "cell_type": "code",
   "execution_count": null,
   "metadata": {},
   "outputs": [],
   "source": [
    "#from createTablesSQLOneToMany import CreateTableInSQLServer\n",
    "#from insertDataTableSQL import InsertDataToTableSqlServer"
   ]
  },
  {
   "cell_type": "code",
   "execution_count": 1,
   "metadata": {},
   "outputs": [],
   "source": [
    "import pyodbc\n",
    "from singletonCreateSQLdb import CreateSQL_DB\n",
    "from downloadData import DownloadJsonFile\n",
    "from createProcedure import CreateProcedureToInsertData\n",
    "from createTablesSQLManyToMany import CreateTableInSQLServer\n",
    "from collections import OrderedDict"
   ]
  },
  {
   "cell_type": "code",
   "execution_count": 11,
   "metadata": {},
   "outputs": [],
   "source": [
    "connection_string = \"Driver={ODBC Driver 13 for SQL Server};\" \\\n",
    "                    \"Server=EXPERISDS1\\SQLSERVER2017;\" \\\n",
    "                    \"Database=TriviaQuestions;\" \\\n",
    "                    \"Trusted_Connection=yes;\"\n",
    "# Home Version\n",
    "# connection_string = \"Driver={ODBC Driver 13 for SQL Server};\" \\\n",
    "#                     \"Server=DESKTOP-7DM81V0;\" \\\n",
    "#                     \"Database=TriviaQuestions;\" \\\n",
    "#                     \"Trusted_Connection=yes;\""
   ]
  },
  {
   "cell_type": "markdown",
   "metadata": {},
   "source": [
    "Create Data Base 'TriviaQuestions'"
   ]
  },
  {
   "cell_type": "code",
   "execution_count": 12,
   "metadata": {},
   "outputs": [
    {
     "name": "stdout",
     "output_type": "stream",
     "text": [
      "Database TriviaQuestions already exists\n"
     ]
    }
   ],
   "source": [
    "try:\n",
    "    CreateSQL_DB(db_name='TriviaQuestions',conn_str=connection_string)\n",
    "except Exception:\n",
    "    print(\"Database TriviaQuestions already exists\")"
   ]
  },
  {
   "cell_type": "markdown",
   "metadata": {},
   "source": [
    "Create Tables Connections"
   ]
  },
  {
   "cell_type": "code",
   "execution_count": 8,
   "metadata": {},
   "outputs": [
    {
     "ename": "InterfaceError",
     "evalue": "('28000', '[28000] [Microsoft][ODBC Driver 13 for SQL Server][SQL Server]Login failed for user \\'EXPERISDS1\\\\USER1\\'. (18456) (SQLDriverConnect); [28000] [Microsoft][ODBC Driver 13 for SQL Server][SQL Server]Cannot open database \"TriviaQuestions\" requested by the login. The login failed. (4060); [28000] [Microsoft][ODBC Driver 13 for SQL Server][SQL Server]Login failed for user \\'EXPERISDS1\\\\USER1\\'. (18456); [28000] [Microsoft][ODBC Driver 13 for SQL Server][SQL Server]Cannot open database \"TriviaQuestions\" requested by the login. The login failed. (4060)')",
     "output_type": "error",
     "traceback": [
      "\u001b[1;31m---------------------------------------------------------------------------\u001b[0m",
      "\u001b[1;31mInterfaceError\u001b[0m                            Traceback (most recent call last)",
      "\u001b[1;32m<ipython-input-8-387466a3e18c>\u001b[0m in \u001b[0;36m<module>\u001b[1;34m()\u001b[0m\n\u001b[1;32m----> 1\u001b[1;33m \u001b[0mCreateTableInSQLServer\u001b[0m\u001b[1;33m(\u001b[0m\u001b[1;33m)\u001b[0m\u001b[1;33m.\u001b[0m\u001b[0mcreate_table\u001b[0m\u001b[1;33m(\u001b[0m\u001b[0mconn_str\u001b[0m\u001b[1;33m=\u001b[0m\u001b[0mconnection_string\u001b[0m\u001b[1;33m)\u001b[0m\u001b[1;33m\u001b[0m\u001b[0m\n\u001b[0m",
      "\u001b[1;32mC:\\PycharmProjects\\TriviaGame\\createTablesSQLManyToMany.py\u001b[0m in \u001b[0;36mcreate_table\u001b[1;34m(self, conn_str)\u001b[0m\n\u001b[0;32m     21\u001b[0m         \u001b[1;33m:\u001b[0m\u001b[1;32mreturn\u001b[0m\u001b[1;33m:\u001b[0m \u001b[1;32mNone\u001b[0m\u001b[1;33m\u001b[0m\u001b[0m\n\u001b[0;32m     22\u001b[0m         \"\"\"\n\u001b[1;32m---> 23\u001b[1;33m         \u001b[0mconnection\u001b[0m \u001b[1;33m=\u001b[0m \u001b[0mpyodbc\u001b[0m\u001b[1;33m.\u001b[0m\u001b[0mconnect\u001b[0m\u001b[1;33m(\u001b[0m\u001b[0mconn_str\u001b[0m\u001b[1;33m)\u001b[0m\u001b[1;33m\u001b[0m\u001b[0m\n\u001b[0m\u001b[0;32m     24\u001b[0m         \u001b[0mcursor\u001b[0m \u001b[1;33m=\u001b[0m \u001b[0mconnection\u001b[0m\u001b[1;33m.\u001b[0m\u001b[0mcursor\u001b[0m\u001b[1;33m(\u001b[0m\u001b[1;33m)\u001b[0m\u001b[1;33m\u001b[0m\u001b[0m\n\u001b[0;32m     25\u001b[0m \u001b[1;33m\u001b[0m\u001b[0m\n",
      "\u001b[1;31mInterfaceError\u001b[0m: ('28000', '[28000] [Microsoft][ODBC Driver 13 for SQL Server][SQL Server]Login failed for user \\'EXPERISDS1\\\\USER1\\'. (18456) (SQLDriverConnect); [28000] [Microsoft][ODBC Driver 13 for SQL Server][SQL Server]Cannot open database \"TriviaQuestions\" requested by the login. The login failed. (4060); [28000] [Microsoft][ODBC Driver 13 for SQL Server][SQL Server]Login failed for user \\'EXPERISDS1\\\\USER1\\'. (18456); [28000] [Microsoft][ODBC Driver 13 for SQL Server][SQL Server]Cannot open database \"TriviaQuestions\" requested by the login. The login failed. (4060)')"
     ]
    }
   ],
   "source": [
    "CreateTableInSQLServer().create_table(conn_str=connection_string)   "
   ]
  },
  {
   "cell_type": "markdown",
   "metadata": {},
   "source": [
    "Create Procedure"
   ]
  },
  {
   "cell_type": "code",
   "execution_count": 9,
   "metadata": {},
   "outputs": [
    {
     "ename": "InterfaceError",
     "evalue": "('28000', '[28000] [Microsoft][ODBC Driver 13 for SQL Server][SQL Server]Login failed for user \\'EXPERISDS1\\\\USER1\\'. (18456) (SQLDriverConnect); [28000] [Microsoft][ODBC Driver 13 for SQL Server][SQL Server]Cannot open database \"TriviaQuestions\" requested by the login. The login failed. (4060); [28000] [Microsoft][ODBC Driver 13 for SQL Server][SQL Server]Login failed for user \\'EXPERISDS1\\\\USER1\\'. (18456); [28000] [Microsoft][ODBC Driver 13 for SQL Server][SQL Server]Cannot open database \"TriviaQuestions\" requested by the login. The login failed. (4060)')",
     "output_type": "error",
     "traceback": [
      "\u001b[1;31m---------------------------------------------------------------------------\u001b[0m",
      "\u001b[1;31mInterfaceError\u001b[0m                            Traceback (most recent call last)",
      "\u001b[1;32m<ipython-input-9-42ae630a35be>\u001b[0m in \u001b[0;36m<module>\u001b[1;34m()\u001b[0m\n\u001b[1;32m----> 1\u001b[1;33m \u001b[0mCreateProcedureToInsertData\u001b[0m\u001b[1;33m(\u001b[0m\u001b[1;33m)\u001b[0m\u001b[1;33m.\u001b[0m\u001b[0mcreate_procedure\u001b[0m\u001b[1;33m(\u001b[0m\u001b[0mconn_str\u001b[0m\u001b[1;33m=\u001b[0m\u001b[0mconnection_string\u001b[0m\u001b[1;33m)\u001b[0m\u001b[1;33m\u001b[0m\u001b[0m\n\u001b[0m",
      "\u001b[1;32mC:\\PycharmProjects\\TriviaGame\\createProcedure.py\u001b[0m in \u001b[0;36mcreate_procedure\u001b[1;34m(self, conn_str)\u001b[0m\n\u001b[0;32m      4\u001b[0m     \u001b[1;32mdef\u001b[0m \u001b[0mcreate_procedure\u001b[0m\u001b[1;33m(\u001b[0m\u001b[0mself\u001b[0m\u001b[1;33m,\u001b[0m \u001b[0mconn_str\u001b[0m\u001b[1;33m)\u001b[0m\u001b[1;33m:\u001b[0m\u001b[1;33m\u001b[0m\u001b[0m\n\u001b[0;32m      5\u001b[0m \u001b[1;33m\u001b[0m\u001b[0m\n\u001b[1;32m----> 6\u001b[1;33m         \u001b[0mconnection\u001b[0m \u001b[1;33m=\u001b[0m \u001b[0mpyodbc\u001b[0m\u001b[1;33m.\u001b[0m\u001b[0mconnect\u001b[0m\u001b[1;33m(\u001b[0m\u001b[0mconn_str\u001b[0m\u001b[1;33m,\u001b[0m\u001b[0mautocommit\u001b[0m\u001b[1;33m=\u001b[0m\u001b[1;32mTrue\u001b[0m\u001b[1;33m)\u001b[0m\u001b[1;33m\u001b[0m\u001b[0m\n\u001b[0m\u001b[0;32m      7\u001b[0m         \u001b[0mcursor\u001b[0m \u001b[1;33m=\u001b[0m \u001b[0mconnection\u001b[0m\u001b[1;33m.\u001b[0m\u001b[0mcursor\u001b[0m\u001b[1;33m(\u001b[0m\u001b[1;33m)\u001b[0m\u001b[1;33m\u001b[0m\u001b[0m\n\u001b[0;32m      8\u001b[0m \u001b[1;33m\u001b[0m\u001b[0m\n",
      "\u001b[1;31mInterfaceError\u001b[0m: ('28000', '[28000] [Microsoft][ODBC Driver 13 for SQL Server][SQL Server]Login failed for user \\'EXPERISDS1\\\\USER1\\'. (18456) (SQLDriverConnect); [28000] [Microsoft][ODBC Driver 13 for SQL Server][SQL Server]Cannot open database \"TriviaQuestions\" requested by the login. The login failed. (4060); [28000] [Microsoft][ODBC Driver 13 for SQL Server][SQL Server]Login failed for user \\'EXPERISDS1\\\\USER1\\'. (18456); [28000] [Microsoft][ODBC Driver 13 for SQL Server][SQL Server]Cannot open database \"TriviaQuestions\" requested by the login. The login failed. (4060)')"
     ]
    }
   ],
   "source": [
    "CreateProcedureToInsertData().create_procedure(conn_str=connection_string)"
   ]
  },
  {
   "cell_type": "markdown",
   "metadata": {},
   "source": [
    "Download Data"
   ]
  },
  {
   "cell_type": "code",
   "execution_count": null,
   "metadata": {},
   "outputs": [],
   "source": [
    "param = [50, 17, 'medium']\n",
    "json_file = DownloadJsonFile(*param).internet_data_collect()"
   ]
  },
  {
   "cell_type": "markdown",
   "metadata": {},
   "source": [
    "Inserting Data To SQLdb"
   ]
  },
  {
   "cell_type": "code",
   "execution_count": null,
   "metadata": {},
   "outputs": [],
   "source": [
    "sql = \"{CALL InsertIntoTables (?, ?, ?, ?, ?, ?) }\"\n",
    "connection = pyodbc.connect(connection_string)\n",
    "cursor = connection.cursor()\n",
    "for json_one in json_file:\n",
    "    #one = OrderedDict(sorted(json_one.items(), key=lambda x: x[0]))\n",
    "    origin = list(json_one.values())\n",
    "    multiply_incorect = origin.pop()  \n",
    "    for incorect in multiply_incorect:\n",
    "        origin.append(incorect)\n",
    "        cursor.execute(sql,origin)\n",
    "        cursor.commit()\n",
    "        print(origin)\n",
    "        origin.remove(incorect)\n",
    "\n",
    "cursor.close()\n",
    "connection.close()\n"
   ]
  },
  {
   "cell_type": "code",
   "execution_count": null,
   "metadata": {},
   "outputs": [],
   "source": [
    "CreateTableInSQLServer().drop_tables(conn_str=connection_string)\n",
    "CreateProcedureToInsertData().drop_procedure(conn_str=connection_string)"
   ]
  },
  {
   "cell_type": "code",
   "execution_count": null,
   "metadata": {},
   "outputs": [],
   "source": [
    "\n",
    "origin = ['Science & Nature', 'multiple', 'medium', 'Along with Oxygen, which element is primarily responsible for the sky appearing blue?', 'Nitrogen', ['Helium', 'Carbon', 'Hydrogen']]\n",
    "multiply_incorect = origin.pop()\n",
    "for incorect in multiply_incorect:\n",
    "    origin.append(incorect)\n",
    "    print(origin)\n",
    "    origin.remove(incorect)\n",
    "    "
   ]
  },
  {
   "cell_type": "code",
   "execution_count": null,
   "metadata": {},
   "outputs": [],
   "source": [
    "# def insert_category(name, connection_string):    \n",
    "#     sql_query = f\"\"\"\n",
    "#                   INSERT INTO Categories(CategoryName)\n",
    "#                   Select ? WHERE NOT EXISTS(SELECT * FROM Categories WHERE CategoryName=?)\n",
    "#                 \"\"\"\n",
    "#     connection = pyodbc.connect(connection_string)\n",
    "#     cursor = connection.cursor()\n",
    "    \n",
    "#     inserted = cursor.execute(sql_query, name, name).rowcount\n",
    "#     connection.commit()\n",
    "#     cursor.close()\n",
    "#     connection.close()\n",
    "#     return inserted"
   ]
  },
  {
   "cell_type": "code",
   "execution_count": null,
   "metadata": {},
   "outputs": [],
   "source": [
    "# def insert_difficulty(name, connection_string):    \n",
    "#     sql_query = f\"\"\"\n",
    "#                   INSERT INTO Difficulties(Difficulty)\n",
    "#                   Select ? WHERE NOT EXISTS(SELECT * FROM Difficulties WHERE Difficulty=?)\n",
    "#                 \"\"\"\n",
    "#     connection = pyodbc.connect(connection_string)\n",
    "#     cursor = connection.cursor()\n",
    "    \n",
    "#     inserted = cursor.execute(sql_query, name, name).rowcount\n",
    "#     connection.commit()\n",
    "#     cursor.close()\n",
    "#     connection.close()\n",
    "#     return inserted"
   ]
  },
  {
   "cell_type": "code",
   "execution_count": null,
   "metadata": {},
   "outputs": [],
   "source": [
    "# def insert_question(name, connection_string):    \n",
    "#     sql_query = f\"\"\"\n",
    "#                   INSERT INTO Questions(Question)\n",
    "#                   Select ? WHERE NOT EXISTS(SELECT * FROM Questions WHERE Question=?)\n",
    "#                 \"\"\"\n",
    "#     connection = pyodbc.connect(connection_string)\n",
    "#     cursor = connection.cursor()\n",
    "    \n",
    "#     inserted = cursor.execute(sql_query, name, name).rowcount\n",
    "#     connection.commit()\n",
    "#     cursor.close()\n",
    "#     connection.close()\n",
    "#     return inserted"
   ]
  },
  {
   "cell_type": "code",
   "execution_count": null,
   "metadata": {},
   "outputs": [],
   "source": [
    "# def insert_type(name, connection_string):    \n",
    "#     sql_query = f\"\"\"\n",
    "#                   INSERT INTO Type(QuestionType)\n",
    "#                   Select ? WHERE NOT EXISTS(SELECT * FROM Type WHERE QuestionType=?)\n",
    "#                 \"\"\"\n",
    "#     connection = pyodbc.connect(connection_string)\n",
    "#     cursor = connection.cursor()\n",
    "    \n",
    "#     inserted = cursor.execute(sql_query, name, name).rowcount\n",
    "#     connection.commit()\n",
    "#     cursor.close()\n",
    "#     connection.close()\n",
    "#     return inserted"
   ]
  },
  {
   "cell_type": "code",
   "execution_count": null,
   "metadata": {},
   "outputs": [],
   "source": [
    "# def update_id(connection_string):\n",
    "#     sql_query = f\"\"\"              \n",
    "#                   UPDATE Questions\n",
    "#                   SET CategoryId=(SELECT CategoryId\n",
    "#                                   FROM Categories)\n",
    "#                   UPDATE Questions\n",
    "#                   SET DifficultyID=(SELECT DifficultyID\n",
    "#                                            FROM Difficulties)\n",
    "                                           \n",
    "#                   UPDATE Questions\n",
    "#                   SET TypeId=(SELECT TypeId\n",
    "#                               FROM Type)\n",
    "#                 \"\"\"\n",
    "#     connection = pyodbc.connect(connection_string)\n",
    "#     cursor = connection.cursor()\n",
    "    \n",
    "#     update = cursor.execute(sql_query).rowcount\n",
    "#     connection.commit()\n",
    "#     cursor.close()\n",
    "#     connection.close()\n",
    "\n",
    "# # UPDATE Questions\n",
    "# # SET CategoryId=(SELECT CategoryId\n",
    "# #   FROM Categories)\n",
    "\n",
    "# # UPDATE Questions\n",
    "# # SET DifficultyID=(SELECT DifficultyID\n",
    "# #   FROM Difficulty)\n",
    "    "
   ]
  },
  {
   "cell_type": "code",
   "execution_count": null,
   "metadata": {},
   "outputs": [],
   "source": [
    "# def stam(name, connection_string):\n",
    "#     pass"
   ]
  },
  {
   "cell_type": "code",
   "execution_count": null,
   "metadata": {},
   "outputs": [],
   "source": [
    "# dispatch_insert = {\n",
    "#     'category': insert_category,\n",
    "#     'difficulty': insert_difficulty,\n",
    "#     'question': insert_question,\n",
    "#     'correct_answer': stam,\n",
    "#     'incorrect_answers': stam,\n",
    "#     'type': insert_type\n",
    "# }\n"
   ]
  },
  {
   "cell_type": "code",
   "execution_count": null,
   "metadata": {},
   "outputs": [],
   "source": [
    "# connection_string = \"Driver={ODBC Driver 13 for SQL Server};\" \\\n",
    "#                         \"Server=DESKTOP-7DM81V0;\" \\\n",
    "#                         \"Database=TriviaQuestions;\" \\\n",
    "#                         \"Trusted_Connection=yes;\"\n",
    "# connection = pyodbc.connect(connection_string)\n",
    "# cursor = connection.cursor()\n",
    "    \n",
    "# sql_query = f\"\"\"select * from Categories\"\"\"\n",
    "# inserted = cursor.execute(sql_query).rowcount\n",
    "# connection.commit()\n",
    "# cursor.close()\n",
    "# connection.close()    "
   ]
  },
  {
   "cell_type": "code",
   "execution_count": null,
   "metadata": {},
   "outputs": [],
   "source": [
    "\n",
    "\n",
    "for i, json_one in enumerate(jason_file, 1):\n",
    "    one = OrderedDict(sorted(json_one.items(), key=lambda x: x[0]))\n",
    "    if i < 100:\n",
    "        keys, val = list(zip(*one.items()))\n",
    "        # print(f,end='\\n\\n')\n",
    "        for j, key in enumerate(keys,1):\n",
    "            if j < 10:\n",
    "                print(key)\n",
    "                name = one[key]\n",
    "                print(name)\n",
    "                print(dispatch_insert[key](name,connection_string), end='\\n\\n')\n",
    "                update_id(connection_string)\n",
    "            \n",
    "            \n",
    "            \n",
    "#             if type(name) is list:\n",
    "#                 for item in name:\n",
    "#                     print(item)"
   ]
  },
  {
   "cell_type": "code",
   "execution_count": null,
   "metadata": {},
   "outputs": [],
   "source": [
    "#table = InsertDataToTableSqlServer().drop_tables()"
   ]
  },
  {
   "cell_type": "code",
   "execution_count": null,
   "metadata": {},
   "outputs": [],
   "source": [
    "set(zip(*jason_file))"
   ]
  },
  {
   "cell_type": "code",
   "execution_count": null,
   "metadata": {},
   "outputs": [],
   "source": [
    "def power_2(x):\n",
    "    return x**2\n",
    "def power_3(x):\n",
    "    return x**3\n",
    "def power_4(x):\n",
    "    return x**4\n"
   ]
  },
  {
   "cell_type": "code",
   "execution_count": null,
   "metadata": {},
   "outputs": [],
   "source": [
    "f = {'aaa': power_2, 'bbb': power_3, 'ccc': power_4 }\n",
    "names = ['aaa', 'bbb', 'ccc'] \n",
    "\n",
    "for n in names:\n",
    "    print(f[n](2))\n",
    "    \n"
   ]
  },
  {
   "cell_type": "code",
   "execution_count": null,
   "metadata": {},
   "outputs": [],
   "source": [
    "def do_ping(self, arg):\n",
    "    return 'Pong, {0}!'.format(arg)\n",
    "\n",
    "def do_ls(self, arg):\n",
    "    return '\\n'.join(os.listdir(arg))\n",
    "\n",
    "dispatch = {\n",
    "    'ping': do_ping,\n",
    "    'ls': do_ls,\n",
    "}\n",
    "\n",
    "def process_network_command(command, arg):\n",
    "    send(dispatch[command](arg))\n",
    "    \n"
   ]
  },
  {
   "cell_type": "code",
   "execution_count": null,
   "metadata": {},
   "outputs": [],
   "source": []
  },
  {
   "cell_type": "code",
   "execution_count": null,
   "metadata": {},
   "outputs": [],
   "source": []
  },
  {
   "cell_type": "code",
   "execution_count": null,
   "metadata": {},
   "outputs": [],
   "source": []
  },
  {
   "cell_type": "code",
   "execution_count": null,
   "metadata": {},
   "outputs": [],
   "source": []
  },
  {
   "cell_type": "code",
   "execution_count": null,
   "metadata": {},
   "outputs": [],
   "source": []
  }
 ],
 "metadata": {
  "kernelspec": {
   "display_name": "Python 3",
   "language": "python",
   "name": "python3"
  },
  "language_info": {
   "codemirror_mode": {
    "name": "ipython",
    "version": 3
   },
   "file_extension": ".py",
   "mimetype": "text/x-python",
   "name": "python",
   "nbconvert_exporter": "python",
   "pygments_lexer": "ipython3",
   "version": "3.6.5"
  }
 },
 "nbformat": 4,
 "nbformat_minor": 2
}
