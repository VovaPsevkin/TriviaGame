{
 "cells": [
  {
   "cell_type": "code",
   "execution_count": null,
   "metadata": {},
   "outputs": [],
   "source": [
    "import pyodbc\n",
    "import pandas as pd"
   ]
  },
  {
   "cell_type": "code",
   "execution_count": null,
   "metadata": {},
   "outputs": [],
   "source": [
    "pyodbc.drivers()"
   ]
  },
  {
   "cell_type": "code",
   "execution_count": null,
   "metadata": {},
   "outputs": [],
   "source": [
    "connection_string = \"Driver={ODBC Driver 13 for SQL Server};\" \\\n",
    "                            \"Server=DESKTOP-7DM81V0;\" \\\n",
    "                            \"Database=TriviaQuestions;\" \\\n",
    "                            \"Trusted_Connection=yes;\""
   ]
  },
  {
   "cell_type": "code",
   "execution_count": null,
   "metadata": {},
   "outputs": [],
   "source": [
    "connection_string"
   ]
  },
  {
   "cell_type": "code",
   "execution_count": null,
   "metadata": {},
   "outputs": [],
   "source": [
    "connection = pyodbc.connect(connection_string, autocommit=True)\n",
    "cursor = connection.cursor()\n",
    "h = \"Questions\"\n",
    "\n",
    "sql_query = f\"\"\"DROP TABLE IF EXISTS Questions\n",
    "                CREATE TABLE Questions\n",
    "                (\n",
    "                QuestionId INT IDENTITY CONSTRAINT pk_ProductId PRIMARY KEY,\n",
    "                QuestionCategory NVARCHAR(50) CONSTRAINT nt_questionCategory NOT NULL,\n",
    "                QuestionCorrectAnswer NVARCHAR(50) CONSTRAINT nt_questionCorrect NOT NULL,\n",
    "                QuestionDifficulty  NVARCHAR(50) CONSTRAINT nt_questionDifficulty NOT NULL,\n",
    "                QuestionIncorrectAnswers NVARCHAR(150) CONSTRAINT nt_questionIncorrectAnswers NOT NULL,\n",
    "                Question NVARCHAR(150) CONSTRAINT nt_question NOT NULL,\n",
    "                QuestionType NVARCHAR(120) CONSTRAINT nt_questionType NOT NULL\n",
    "                )\"\"\" \n",
    "                    \n",
    "cursor.execute(sql_query)\n",
    "cursor.close()\n",
    "connection.close()"
   ]
  },
  {
   "cell_type": "code",
   "execution_count": null,
   "metadata": {},
   "outputs": [],
   "source": [
    "connection_string"
   ]
  },
  {
   "cell_type": "code",
   "execution_count": null,
   "metadata": {},
   "outputs": [],
   "source": [
    "import pandas as pd"
   ]
  },
  {
   "cell_type": "code",
   "execution_count": null,
   "metadata": {},
   "outputs": [],
   "source": [
    "df = pd.DataFrame({ 'id': [1,2,3,4], 'letters': ['A', 'B', 'A', 'B']})"
   ]
  },
  {
   "cell_type": "code",
   "execution_count": null,
   "metadata": {},
   "outputs": [],
   "source": [
    "df"
   ]
  },
  {
   "cell_type": "code",
   "execution_count": null,
   "metadata": {},
   "outputs": [],
   "source": [
    "import json\n",
    "import requests\n"
   ]
  },
  {
   "cell_type": "code",
   "execution_count": null,
   "metadata": {},
   "outputs": [],
   "source": [
    "amount, category, difficulty = 50, 17, 'medium'\n",
    "url = f\"https://opentdb.com/api.php?amount={amount}\" \\\n",
    "        f\"&category={category}&difficulty={difficulty}\"\n",
    "url"
   ]
  },
  {
   "cell_type": "code",
   "execution_count": null,
   "metadata": {},
   "outputs": [],
   "source": [
    "response = requests.get(url)\n",
    "page = response.text\n",
    "json_data = json.loads(page)\n",
    "json_data = json_data[\"results\"]\n",
    "\n",
    "connection_string = \"Driver={ODBC Driver 13 for SQL Server};\" \\\n",
    "                            \"Server=DESKTOP-7DM81V0;\" \\\n",
    "                            \"Database=TriviaQuestions;\" \\\n",
    "                            \"Trusted_Connection=yes;\"\n",
    "\n",
    "#table columns names\n",
    "columns_name = list(json_data[0].keys())\n",
    "\n",
    "connection = pyodbc.connect(connection_string, autocommit=True)\n",
    "cursor = connection.cursor()\n",
    "\n",
    "#problem with F\"{}\" and ? --> How cancatied?????? \n",
    "for j in json_data:\n",
    "    vlues = list(j.values())\n",
    "    sql_query =  f\"INSERT INTO {table_name}(?, ?, ?, ?, ?, ?) Values (?, ?, ?, ?, ?, ?)\"    \n",
    "    \n"
   ]
  },
  {
   "cell_type": "code",
   "execution_count": 1,
   "metadata": {},
   "outputs": [],
   "source": [
    "import pyodbc\n",
    "from singletonCreateSQLdb import CreateSQL_DB\n",
    "from downloadData import DownloadJsonFile\n",
    "from createTablesSQL import CreateTableInSQLServer\n",
    "from insertDataTableSQL import InsertDataToTableSqlServer"
   ]
  },
  {
   "cell_type": "code",
   "execution_count": 2,
   "metadata": {},
   "outputs": [],
   "source": [
    "try:\n",
    "    CreateSQL_DB(db_name='TriviaQuestions')\n",
    "except Exception:\n",
    "    print(\"Database TriviaQuestions already exists\")"
   ]
  },
  {
   "cell_type": "code",
   "execution_count": 3,
   "metadata": {},
   "outputs": [],
   "source": [
    "CreateTableInSQLServer().create_table()"
   ]
  },
  {
   "cell_type": "code",
   "execution_count": 4,
   "metadata": {},
   "outputs": [],
   "source": [
    "param = [50, 17, 'medium']\n",
    "jason_file = DownloadJsonFile(*param).internet_data_collect()"
   ]
  },
  {
   "cell_type": "code",
   "execution_count": 5,
   "metadata": {},
   "outputs": [
    {
     "data": {
      "text/plain": [
       "dict_keys(['category', 'type', 'difficulty', 'question', 'correct_answer', 'incorrect_answers'])"
      ]
     },
     "execution_count": 5,
     "metadata": {},
     "output_type": "execute_result"
    }
   ],
   "source": [
    "jason_file[0].keys()"
   ]
  },
  {
   "cell_type": "code",
   "execution_count": 6,
   "metadata": {},
   "outputs": [],
   "source": [
    "from collections import OrderedDict\n",
    "#alpha = OrderedDict(sorted(ages.items(), key=lambda x: x[0]))"
   ]
  },
  {
   "cell_type": "code",
   "execution_count": 7,
   "metadata": {},
   "outputs": [],
   "source": [
    "def insert_categories(name):\n",
    "    # connection_string = \"Driver={ODBC Driver 13 for SQL Server};\" \\\n",
    "    #                     \"Server=EXPERISDS1\\SQLSERVER2017;\" \\\n",
    "    #                     \"Database=TriviaQuestions;\" \\\n",
    "    #                     \"Trusted_Connection=yes;\"\n",
    "    # Home Version\n",
    "    connection_string = \"Driver={ODBC Driver 13 for SQL Server};\" \\\n",
    "                        \"Server=DESKTOP-7DM81V0;\" \\\n",
    "                        \"Database=TriviaQuestions;\" \\\n",
    "                        \"Trusted_Connection=yes;\"\n",
    "    connection = pyodbc.connect(connection_string)\n",
    "    cursor = connection.cursor()\n",
    "    \n",
    "    sql_query = f\"\"\"\n",
    "                  INSERT INTO Categories(CategoryName)\n",
    "                  Select ? WHERE NOT EXISTS(SELECT * FROM Categories WHERE CategoryName=?)\n",
    "                \"\"\"\n",
    "    inserted = cursor.execute(sql_query, name, name).rowcount\n",
    "    connection.commit()\n",
    "    cursor.close()\n",
    "    connection.close()\n",
    "    return inserted"
   ]
  },
  {
   "cell_type": "code",
   "execution_count": 18,
   "metadata": {},
   "outputs": [],
   "source": [
    "# connection_string = \"Driver={ODBC Driver 13 for SQL Server};\" \\\n",
    "#                         \"Server=DESKTOP-7DM81V0;\" \\\n",
    "#                         \"Database=TriviaQuestions;\" \\\n",
    "#                         \"Trusted_Connection=yes;\"\n",
    "# connection = pyodbc.connect(connection_string)\n",
    "# cursor = connection.cursor()\n",
    "    \n",
    "# sql_query = f\"\"\"select * from Categories\"\"\"\n",
    "# inserted = cursor.execute(sql_query).rowcount\n",
    "# connection.commit()\n",
    "# cursor.close()\n",
    "# connection.close()    "
   ]
  },
  {
   "cell_type": "code",
   "execution_count": 9,
   "metadata": {},
   "outputs": [
    {
     "name": "stdout",
     "output_type": "stream",
     "text": [
      "category\n",
      "Science & Nature\n",
      "\n",
      "0\n",
      "category\n",
      "Science & Nature\n",
      "\n",
      "0\n",
      "category\n",
      "Science & Nature\n",
      "\n",
      "0\n",
      "category\n",
      "Science & Nature\n",
      "\n",
      "0\n",
      "category\n",
      "Science & Nature\n",
      "\n",
      "0\n"
     ]
    }
   ],
   "source": [
    "for i, json_one in enumerate(jason_file, 1):\n",
    "    one = OrderedDict(sorted(json_one.items(), key=lambda x: x[0]))\n",
    "    if i < 6:\n",
    "        keys, val = list(zip(*one.items()))\n",
    "        # print(f,end='\\n\\n')\n",
    "        for j, key in enumerate(keys,1):\n",
    "            if j < 2:\n",
    "                print(key)\n",
    "                name = one[key]\n",
    "                print(name, end='\\n\\n')\n",
    "                print(insert_categories(name))\n",
    "            \n",
    "            \n",
    "            \n",
    "#             if type(name) is list:\n",
    "#                 for item in name:\n",
    "#                     print(item)"
   ]
  },
  {
   "cell_type": "code",
   "execution_count": null,
   "metadata": {},
   "outputs": [],
   "source": [
    "#table = InsertDataToTableSqlServer().drop_tables()"
   ]
  },
  {
   "cell_type": "code",
   "execution_count": null,
   "metadata": {},
   "outputs": [],
   "source": [
    "set(zip(*jason_file))"
   ]
  },
  {
   "cell_type": "code",
   "execution_count": null,
   "metadata": {},
   "outputs": [],
   "source": []
  }
 ],
 "metadata": {
  "kernelspec": {
   "display_name": "Python 3",
   "language": "python",
   "name": "python3"
  },
  "language_info": {
   "codemirror_mode": {
    "name": "ipython",
    "version": 3
   },
   "file_extension": ".py",
   "mimetype": "text/x-python",
   "name": "python",
   "nbconvert_exporter": "python",
   "pygments_lexer": "ipython3",
   "version": "3.6.4"
  }
 },
 "nbformat": 4,
 "nbformat_minor": 2
}
